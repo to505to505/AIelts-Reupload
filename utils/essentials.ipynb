{
 "cells": [
  {
   "cell_type": "code",
   "execution_count": 63,
   "metadata": {},
   "outputs": [],
   "source": [
    "import os\n",
    "import pandas as pd\n",
    "from pocketbase import PocketBase\n",
    "from openai import AsyncOpenAI, OpenAI, pydantic_function_tool\n",
    "from dotenv import load_dotenv"
   ]
  },
  {
   "cell_type": "code",
   "execution_count": 64,
   "metadata": {},
   "outputs": [
    {
     "data": {
      "text/plain": [
       "True"
      ]
     },
     "execution_count": 64,
     "metadata": {},
     "output_type": "execute_result"
    }
   ],
   "source": [
    "load_dotenv('.env')"
   ]
  },
  {
   "cell_type": "code",
   "execution_count": 65,
   "metadata": {},
   "outputs": [],
   "source": [
    "pb = PocketBase(os.getenv('PB_URL'))\n",
    "pb.admins.auth_with_password(os.getenv(\"PB_EMAIL\"), os.getenv(\"PB_PASSWORD\"))\n",
    "\n",
    "openai = OpenAI(api_key=os.getenv('OPENAI_API_KEY'))\n",
    "async_openai = AsyncOpenAI(api_key=os.getenv('OPENAI_API_KEY'))"
   ]
  },
  {
   "cell_type": "code",
   "execution_count": 66,
   "metadata": {},
   "outputs": [],
   "source": [
    "from pydantic import BaseModel\n",
    "\n",
    "# INTRO\n",
    "class Introduction(BaseModel):\n",
    "    overview: str\n",
    "    typical_questions: list[str]\n",
    "\n",
    "# KEY WORDS AND PHRASES\n",
    "class Word(BaseModel):\n",
    "    word: str\n",
    "    meaning: str\n",
    "    translation: str\n",
    "    example: str\n",
    "\n",
    "class SynonymAntonym(BaseModel):\n",
    "    synonym: str\n",
    "    antonym: str\n",
    "    synonym_translation: str\n",
    "    antonym_translation: str\n",
    "\n",
    "class Collocation(BaseModel):\n",
    "    collocation: str\n",
    "    meaning: str\n",
    "    translation: str\n",
    "    example: str\n",
    "\n",
    "class KeyWordsAndPhrases(BaseModel):\n",
    "    main_words: list[Word]\n",
    "    adjectives: list[Word]\n",
    "    phrasal_verbs: list[Word]\n",
    "    synonyms_antonyms: list[SynonymAntonym]\n",
    "    collocations: list[Collocation]\n",
    "\n",
    "# EXPRESSIONS AND IDIOMS\n",
    "class Expression(BaseModel):\n",
    "    expression: str\n",
    "    usage: str\n",
    "\n",
    "class Idiom(BaseModel):\n",
    "    idiom: str\n",
    "    meaning: str\n",
    "\n",
    "class ExpressionsAndIdioms(BaseModel):\n",
    "    expressions: list[Expression]\n",
    "    idioms: list[Idiom]\n",
    "\n",
    "# USAGE TIPS\n",
    "class SampleAnswer(BaseModel):\n",
    "    question: str\n",
    "    answer: str\n",
    "\n",
    "class CommonMistake(BaseModel):\n",
    "    mistake: str\n",
    "    advice: str\n",
    "\n",
    "class UsageTips(BaseModel):\n",
    "    sample_answers: list[SampleAnswer]\n",
    "    common_mistakes: list[CommonMistake]\n",
    "\n",
    "\n",
    "# TOPIC ESSENTIAL SCHEMA\n",
    "class TopicEssentialSchema(BaseModel):\n",
    "    introduction: Introduction\n",
    "    key_words_and_phrases: KeyWordsAndPhrases\n",
    "    expressions_and_idioms: ExpressionsAndIdioms\n",
    "    usage_tips: UsageTips\n"
   ]
  },
  {
   "cell_type": "code",
   "execution_count": 67,
   "metadata": {},
   "outputs": [],
   "source": [
    "files = []\n",
    "for file in os.listdir('./essentials_content'):\n",
    "    files.append(os.path.join(\"./essentials_content\", file))"
   ]
  },
  {
   "cell_type": "code",
   "execution_count": 68,
   "metadata": {},
   "outputs": [],
   "source": [
    "async def process_topic(file_uri: str):\n",
    "    topic_slug = file_uri.split('/')[-1].split('.')[0]\n",
    "\n",
    "    with open(file_uri, 'r') as file:\n",
    "        content = file.read()\n",
    "\n",
    "    topic = pb.collection(\"topics\").get_first_list_item(f\"slug = '{topic_slug}'\")\n",
    "\n",
    "    res = await async_openai.chat.completions.create(\n",
    "        model=\"gpt-4o\",\n",
    "        messages=[\n",
    "            {\"role\": \"system\", \"content\": (\n",
    "                \"You need to transform CONTENT into a structured format. If you can't do it with data provided in the CONTENT, you need to fill it with your own knowledge.\"\n",
    "                \"You need to create quality content for english learners. Do not hallucinate, do not lie, do not provide false information.\"\n",
    "                )},\n",
    "            {\"role\": \"system\", \"content\": f\"CONTENT: {content}\"},\n",
    "            ],\n",
    "            tools=[\n",
    "            pydantic_function_tool(TopicEssentialSchema),\n",
    "            ],\n",
    "        )\n",
    "\n",
    "    new_content = res.choices[0].message.tool_calls[0].function.arguments\n",
    "\n",
    "    try:\n",
    "        pb.collection(\"topics\").update(topic.id, {\"essentials\": new_content})\n",
    "        return topic_slug + \" OK\", new_content[:20]\n",
    "    except Exception as e:\n",
    "        return e"
   ]
  },
  {
   "cell_type": "code",
   "execution_count": 69,
   "metadata": {},
   "outputs": [
    {
     "name": "stdout",
     "output_type": "stream",
     "text": [
      "[('work-business-money-shopping OK', '{\"introduction\":{\"ov'), ('food-eating OK', '{\"introduction\":{\"ov'), ('things-objects OK', '{\"introduction\":{\"ov'), ('clothes-accessories OK', '{\"introduction\":{\"ov'), ('body-mind OK', '{\"introduction\":{\"ov'), ('media-entertainment OK', '{\"introduction\":{\"ov'), ('technology OK', '{\"introduction\": {\"o'), ('free-time-hobbies-skills OK', '{\"introduction\":{\"ov'), ('schools-studies OK', '{\"introduction\": {\"o'), ('family-friends-other-people OK', '{\"introduction\":{\"ov'), ('travel-transport OK', '{\"introduction\":{\"ov'), ('nature-animals-the-environment OK', '{\"introduction\":{\"ov'), ('places OK', '{\"introduction\":{\"ov'), ('home-hometown OK', '{\"introduction\":{\"ov')]\n"
     ]
    }
   ],
   "source": [
    "import asyncio\n",
    "\n",
    "\n",
    "tasks = []\n",
    "for file_uri in files:\n",
    "    tasks.append(process_topic(file_uri))\n",
    "\n",
    "results = await asyncio.gather(*tasks)\n",
    "print(results)"
   ]
  },
  {
   "cell_type": "code",
   "execution_count": null,
   "metadata": {},
   "outputs": [],
   "source": []
  }
 ],
 "metadata": {
  "kernelspec": {
   "display_name": ".venv",
   "language": "python",
   "name": "python3"
  },
  "language_info": {
   "codemirror_mode": {
    "name": "ipython",
    "version": 3
   },
   "file_extension": ".py",
   "mimetype": "text/x-python",
   "name": "python",
   "nbconvert_exporter": "python",
   "pygments_lexer": "ipython3",
   "version": "3.13.1"
  }
 },
 "nbformat": 4,
 "nbformat_minor": 2
}
