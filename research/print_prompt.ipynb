{
  "cells": [
    {
      "cell_type": "code",
      "execution_count": 8,
      "metadata": {},
      "outputs": [],
      "source": [
        "from io import StringIO\n",
        "import os\n",
        "\n",
        "import textwrap\n",
        "import sys\n",
        "\n",
        "sys.path.append(os.path.abspath(os.path.join(os.getcwd(), '../../')))\n",
        "from gen.src.prompts_storage.prompt_constructor import create_prompt\n"
      ]
    },
    {
      "cell_type": "code",
      "execution_count": 9,
      "metadata": {},
      "outputs": [],
      "source": [
        "prompt = create_prompt(0, 'grammar', 'mistakes', '')"
      ]
    },
    {
      "cell_type": "code",
      "execution_count": 10,
      "metadata": {},
      "outputs": [
        {
          "name": "stdout",
          "output_type": "stream",
          "text": [
            "                                              You are a program that grades the\n",
            "IELTS speaking exam. You get a transcript of full test and you need to identify\n",
            "and correct significant grammatical mistakes in the student's responses from the\n",
            "provided transcript.  **Instructions:**  1. Analyze only the student's\n",
            "responses; exclude examiner questions and prompt commentaries.    2. EXLUCDE the\n",
            "following:      - Word choice lexical errors . For example if the student used\n",
            "economic instead of economical, it is a lexical error. Or if he said \"waste\n",
            "money\" instead of \"spend money\", it is a lexical error. Or \"working with my\n",
            "phone\" instead of \"using my phone\". NEVERTHELESS, IF YOU REWRITE GRAMMATICAL\n",
            "ERROR AND NEED TO WRITE DOWN A PHRASE WITH LEXICAL ERROR, YOU NEED TO CHANGE THE\n",
            "LEXICAL ERROR AS WELL, EPSECIALLY IF IT SIGNIFICANT(e.g. \"some player do a\n",
            "mistake\" you SHOULD change into \"some player makes a mistake\"). )    -\n",
            "Incomplete but grammatically neutral phrases (e.g., \"Not sure\" instead of \"I am\n",
            "not sure.\")    - Punctuation mistakes      - Comma splice and clause structure\n",
            "errors    - Errors not listed in point 2      - Self-corrections (e.g., \"I have\n",
            "been studying on myself, by myself in my home.\" or, \"there is, yes, there are a\n",
            "lot of high-income earners\"  ). Also an example of self-correction you do not\n",
            "need to include: \"...so my money will be like... I ran out of money\".    -\n",
            "Redundant repetition (e.g. \" I usually, I usually visit my family\")    -\n",
            "Redundant words and filler words (e.g. \"I usually go to the, to the park\" or \"I\n",
            "mean, I think that...\") 3. Report up to 15 of the most significant mistakes.\n",
            "4. For each mistake:      - Quote the phrase with the error, adding brief\n",
            "context (a few words before and after) only if needed for clarity.      -\n",
            "Specify the mistake type.      - Provide a corrected version of the phrase.   5.\n",
            "If a sentence has several mistakes, list each separately. Nevertheless, don't\n",
            "include the same mistake twice! Make sure!   6. Make sure that the corrected\n",
            "version is actually grammatically correct and the meaning is the same! If you do\n",
            "not think that corrected version makes sense in the context, do not include it!\n",
            "Below you will see a transcript of the student's speaking.      Be aware that\n",
            "recordings, and therefore transcripts, might be cropped at the beginning and/or\n",
            "at the end.     Phrases in parentheses are teacher's questions, so don't\n",
            "consider them part of the student's speaking!      In the beginning of each part\n",
            "there is an indicator that certain part has started. It is a sentence in square\n",
            "brackets, so don't evaluate any content within those brackets! Trnascript of\n",
            "full test:         {transcript}.    [END OF THE TRANSCRIPT]\n"
          ]
        }
      ],
      "source": [
        "print(textwrap.fill(prompt.format_noargs(), width = 80))"
      ]
    },
    {
      "cell_type": "code",
      "execution_count": null,
      "metadata": {},
      "outputs": [],
      "source": []
    }
  ],
  "metadata": {
    "kernelspec": {
      "display_name": "cogito",
      "language": "python",
      "name": "python3"
    },
    "language_info": {
      "codemirror_mode": {
        "name": "ipython",
        "version": 3
      },
      "file_extension": ".py",
      "mimetype": "text/x-python",
      "name": "python",
      "nbconvert_exporter": "python",
      "pygments_lexer": "ipython3",
      "version": "3.11.9"
    }
  },
  "nbformat": 4,
  "nbformat_minor": 2
}
