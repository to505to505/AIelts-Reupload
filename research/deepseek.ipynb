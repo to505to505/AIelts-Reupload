{
 "cells": [
  {
   "cell_type": "code",
   "execution_count": 20,
   "metadata": {},
   "outputs": [],
   "source": [
    "from langchain_deepseek import ChatDeepSeek\n",
    "import os\n",
    "import textwrap"
   ]
  },
  {
   "cell_type": "code",
   "execution_count": 21,
   "metadata": {},
   "outputs": [],
   "source": [
    "from pydantic import BaseModel, Field"
   ]
  },
  {
   "cell_type": "code",
   "execution_count": 22,
   "metadata": {},
   "outputs": [],
   "source": [
    "class GrammarMistakes(BaseModel):\n",
    "    \"\"\"Write down all the grammar mistakes in this format.\"\"\"\n",
    "    ActualVersions: list[str] = Field(\n",
    "        description=\"List all of the grammar mistakes you have found in the text in chronological order. \"\n",
    "    )\n",
    "    TypeOfMistake: list[str] = Field(\n",
    "        description=\"List types of mistakes for all mistakes you have found in chronological order.\"\n",
    "    )\n",
    "    CorrectedVersions: list[str] = Field(\n",
    "        description=\"List corrected versions (rewrited phrases) of mistakes you have found in the text in chronological order.\"\n",
    "    )\n"
   ]
  },
  {
   "cell_type": "code",
   "execution_count": 23,
   "metadata": {},
   "outputs": [],
   "source": [
    "r1 = ChatDeepSeek(\n",
    "            api_key=\"sk-7a48ac9bf3ee473ebae827ac58bca1c8\",\n",
    "            model=\"deepseek-chat\",\n",
    "            temperature=0,\n",
    "            timeout=None,\n",
    "            max_retries=3,\n",
    "            max_tokens=5000,\n",
    "            \n",
    "        )"
   ]
  },
  {
   "cell_type": "code",
   "execution_count": 24,
   "metadata": {},
   "outputs": [],
   "source": [
    "llm = r1.with_structured_output(GrammarMistakes)"
   ]
  },
  {
   "cell_type": "code",
   "execution_count": 25,
   "metadata": {},
   "outputs": [],
   "source": [
    "messages = [\n",
    "    (\"system\", \"You are an IELTS assistant. You will be given a transcript of a user's ielts speaking 3 parts. You need to find 15 grammar mistakes and correct them. For every mistake, write the corrected version and the type of mistake. You will need to write them down twice, first time you need to sanity check them, reason whether they are normal (explicitly, write down ur reasoning) and then write normal final versions. Your final version should be outputed in the specified structured format.\"),\n",
    "    (\"human\", \"TRANSCRIPT: Part 1 (student and teacher's dialogue): \\nLet's talk about noise. Do you mind noises? Hmm... When I was younger, I really don't mind noises. But now, it's turning, like... after 25 years old, yeah, a little bit, I mind noises. Sometimes, I, like, silent rooms, to go in a silent room, and think about my plants. Hmm... Do you think there's too much noise in today's world? Umm... Not I think. I know it's too much noise, because I really, like, drive a lot in the streets. But sometimes, I want to open the windows, but I know when I open the window, there will be too much noises, and it will distract me from, umm... the driving. That's why I drive with closed windows. Hmm... Nowadays, noises, I don't like noises, nowadays. Hmm... Are there any sounds that you like? Umm... Yeah. There is a sound of rain. It's pretty beautiful, like, umm... Sound of rain, maybe... Sound of sunbursts, sometimes, but I don't hear it, nowadays. I heard it when I was little, there was, like, umm... We have sunbursts, like, a choir. I like them, when they sing. Hmm... Now, let's talk about video games. Do you play video games? Oh, this is my point. Yeah, I really like to play games. I play a lot. I play every day, maybe. Umm... Maybe, you have... Continue. I rather play, myself, not watch. I'm not, like, fan of watching. I'm fan of playing, myself. Umm... Especially, we have, like, a group. We gather, like, once in a week and play FIFA on PlayStation. And, like, when I... In there, I watch them play because I have to wait for them to finish the game. Then, I can play, myself, also. That's why. And, on online, I don't really have time to watch the game. Mm-hmm. Do you think people spend too much time playing video games? I don't really care about people. I care about myself. Yeah, like, I spend, like, when... Like, sitting once on the PlayStation playing, like, GTA, maybe. I, like, spent four to five hours playing. Yeah, because when I sit once, I cannot put myself out of it. Now, let's move on to talk about robots. Are robots important? Umm... Nowadays, I don't think that robots are important, but in the future, I think without them, we won't survive. And, would you like robots to work at your home? I wouldn't. Like, the reason is at home, all work that can be done, I can do it myself. And, really, I enjoy doing things at home, like cooking, maybe cleaning, helping to my wife, something at home. Maybe, like, what can I do also at home? Reading a book, watching television, and, like, all the things that I can do myself, I wouldn't go for robots. Maybe in the future, maybe, like, saying, like, to AI, like, Iron Man, hello, Jarvis. Bring me a coffee, like, maybe in the near future.\\nPart 2 (student answering the 2nd part open question): \\nOkay, umm... like, describe someone who likes cooking. So, my mom actually likes cooking, and she's very good cook. And she cooks mostly Uzbek dishes, because I'm living with my grandparents. My grandparents are used to eat only, like, Uzbek national dishes. And my mom cooks, like, three times a day, like breakfast, lunch, and dinner. And also, when I go to work, I carry containers of her food, and I eat it at work. So, why I think she enjoys it? Because she likes it. She has interest in it, and she likes to serve, she likes to be greeted. And, like, she likes it because everyone enjoys it.\\nPart 3 (student and teacher's dialogue): \\nWell, I'd like you to discuss with me the general questions related to this. Do you agree that food is an important part of traditional festivals? Can I think about it, or no? Can I think about it, because, do I have time? Yeah, we can re-record. Umm, mainly, why I say that? Because every nation has its own festivals, celebrations, and not all of the nations are celebrating their festivals with food. Like, if we talk about Uzbekistan, of course, in North Russia we have traditional foods like sumalek, khalim, and without them, the festival is not like a celebration day or holiday. I can't imagine Nabrus without sumalek or khalim. Also, in Mostakilik, we have Day of Independence. In all the houses, in the Day of Independence, there is a plov. And without plov, you can't imagine it. And plov is like the food that brings joy, and when somebody makes a plov, there is something happening that they're celebrating. So, and also, in the weddings, there is a morning plov that we eat, and then go to the wedding. More and more people are unwilling to cook. Why is this happening? Because they are lazy. They all want to eat, not cook. Cooking is also like part of a job. Like, not everybody can cook. I learned to cook when I was a student, when I was abroad. I had a little money, so I should cook or I should spend. When I spend, so my money will be like... I ran out of money, and at the end of the month, I should cook also. Like, there is no way out. So I learned to cook because of this. So I had a way out. Is it important to have a meal together with your family? Yes, it is really important. It's not only about the meal. When you gather in the dinner with the whole family, it's like connection. It's like bond, family bond. I think it is very important to have a meal with your relatives.\\n\")\n",
    "]"
   ]
  },
  {
   "cell_type": "code",
   "execution_count": 28,
   "metadata": {},
   "outputs": [],
   "source": [
    "\n",
    "response = llm.invoke(messages)\n",
    "\n",
    "\n"
   ]
  },
  {
   "cell_type": "code",
   "execution_count": 31,
   "metadata": {},
   "outputs": [
    {
     "data": {
      "text/plain": [
       "GrammarMistakes(ActualVersions=[\"I really don't mind noises\", 'there will be too much noises', 'I heard it when I was little, there was, like, umm... We have sunbursts, like, a choir', 'I rather play, myself, not watch', \"I'm not, like, fan of watching\", \"I'm fan of playing, myself\", 'I, like, spent four to five hours playing', 'helping to my wife', \"she's very good cook\", 'My grandparents are used to eat only, like, Uzbek national dishes', 'I carry containers of her food, and I eat it at work', 'she likes to be greeted', 'Can I think about it, or no?', 'not all of the nations are celebrating their festivals with food', 'I should cook or I should spend'], TypeOfMistake=['Tense inconsistency', 'Subject-verb agreement', 'Run-on sentence', 'Word order', 'Article missing', 'Article missing', 'Tense inconsistency', 'Preposition misuse', 'Article missing', 'Tense inconsistency', 'Article missing', 'Word choice', 'Word choice', 'Subject-verb agreement', 'Word choice'], CorrectedVersions=[\"I really didn't mind noises\", 'there will be too much noise', 'I heard it when I was little. There were, like, umm... We had sunbursts, like, a choir', 'I would rather play myself, not watch', \"I'm not, like, a fan of watching\", \"I'm a fan of playing myself\", 'I, like, spend four to five hours playing', 'helping my wife', \"she's a very good cook\", 'My grandparents are used to eating only, like, Uzbek national dishes', 'I carry containers of her food and eat it at work', 'she likes to be greeted warmly', 'Can I think about it, or not?', 'not all nations celebrate their festivals with food', 'I should cook or I should spend money'])"
      ]
     },
     "execution_count": 31,
     "metadata": {},
     "output_type": "execute_result"
    }
   ],
   "source": [
    "response"
   ]
  },
  {
   "cell_type": "code",
   "execution_count": 30,
   "metadata": {},
   "outputs": [
    {
     "ename": "AttributeError",
     "evalue": "'GrammarMistakes' object has no attribute 'content'",
     "output_type": "error",
     "traceback": [
      "\u001b[0;31m---------------------------------------------------------------------------\u001b[0m",
      "\u001b[0;31mAttributeError\u001b[0m                            Traceback (most recent call last)",
      "\u001b[1;32m/Users/dmitrii_sakharov/Docs/aielts-main/aielts/gen/research/deepseek.ipynb Ячейка 9\u001b[0m line \u001b[0;36m1\n\u001b[0;32m----> <a href='vscode-notebook-cell:/Users/dmitrii_sakharov/Docs/aielts-main/aielts/gen/research/deepseek.ipynb#W6sZmlsZQ%3D%3D?line=0'>1</a>\u001b[0m \u001b[39mprint\u001b[39m(textwrap\u001b[39m.\u001b[39mfill(response\u001b[39m.\u001b[39;49mcontent, width\u001b[39m=\u001b[39m\u001b[39m80\u001b[39m))\n",
      "File \u001b[0;32m~/anaconda3/envs/cogito/lib/python3.11/site-packages/pydantic/main.py:811\u001b[0m, in \u001b[0;36mBaseModel.__getattr__\u001b[0;34m(self, item)\u001b[0m\n\u001b[1;32m    808\u001b[0m     \u001b[39mreturn\u001b[39;00m \u001b[39msuper\u001b[39m()\u001b[39m.\u001b[39m\u001b[39m__getattribute__\u001b[39m(item)  \u001b[39m# Raises AttributeError if appropriate\u001b[39;00m\n\u001b[1;32m    809\u001b[0m \u001b[39melse\u001b[39;00m:\n\u001b[1;32m    810\u001b[0m     \u001b[39m# this is the current error\u001b[39;00m\n\u001b[0;32m--> 811\u001b[0m     \u001b[39mraise\u001b[39;00m \u001b[39mAttributeError\u001b[39;00m(\u001b[39mf\u001b[39m\u001b[39m'\u001b[39m\u001b[39m{\u001b[39;00m\u001b[39mtype\u001b[39m(\u001b[39mself\u001b[39m)\u001b[39m.\u001b[39m\u001b[39m__name__\u001b[39m\u001b[39m!r}\u001b[39;00m\u001b[39m object has no attribute \u001b[39m\u001b[39m{\u001b[39;00mitem\u001b[39m!r}\u001b[39;00m\u001b[39m'\u001b[39m)\n",
      "\u001b[0;31mAttributeError\u001b[0m: 'GrammarMistakes' object has no attribute 'content'"
     ]
    }
   ],
   "source": [
    "print(textwrap.fill(response.content, width=80))"
   ]
  }
 ],
 "metadata": {
  "kernelspec": {
   "display_name": "Python 3",
   "language": "python",
   "name": "python3"
  },
  "language_info": {
   "codemirror_mode": {
    "name": "ipython",
    "version": 3
   },
   "file_extension": ".py",
   "mimetype": "text/x-python",
   "name": "python",
   "nbconvert_exporter": "python",
   "pygments_lexer": "ipython3",
   "version": "3.11.9"
  }
 },
 "nbformat": 4,
 "nbformat_minor": 2
}
